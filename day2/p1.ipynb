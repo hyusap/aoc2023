{
 "cells": [
  {
   "cell_type": "code",
   "execution_count": 32,
   "metadata": {},
   "outputs": [
    {
     "data": {
      "text/plain": [
       "[[[['7', 'green'], ['14', 'red'], ['5', 'blue']],\n",
       "  [['8', 'red'], ['4', 'green']],\n",
       "  [['6', 'green'], ['18', 'red'], ['9', 'blue']]],\n",
       " [[['3', 'blue'], ['15', 'red'], ['5', 'green']],\n",
       "  [['1', 'blue'], ['14', 'red'], ['5', 'green']],\n",
       "  [['11', 'red']],\n",
       "  [['4', 'green'], ['1', 'blue'], ['3', 'red']],\n",
       "  [['4', 'green'], ['1', 'blue']],\n",
       "  [['10', 'red'], ['1', 'green']]],\n",
       " [[['11', 'green'], ['3', 'red']],\n",
       "  [['4', 'green'], ['15', 'blue']],\n",
       "  [['14', 'blue'], ['2', 'red'], ['10', 'green']],\n",
       "  [['1', 'red'], ['3', 'green'], ['10', 'blue']]],\n",
       " [[['1', 'green'], ['6', 'red'], ['11', 'blue']],\n",
       "  [['3', 'blue'], ['12', 'red']],\n",
       "  [['1', 'green'], ['14', 'red'], ['8', 'blue']],\n",
       "  [['3', 'blue'], ['7', 'red']],\n",
       "  [['8', 'blue'], ['5', 'red']],\n",
       "  [['7', 'red'], ['1', 'green']]],\n",
       " [[['14', 'green'], ['3', 'red'], ['3', 'blue']],\n",
       "  [['2', 'red'], ['1', 'green'], ['1', 'blue']],\n",
       "  [['8', 'green'], ['3', 'blue'], ['1', 'red']],\n",
       "  [['15', 'green'], ['8', 'blue'], ['1', 'red']]]]"
      ]
     },
     "execution_count": 32,
     "metadata": {},
     "output_type": "execute_result"
    }
   ],
   "source": [
    "with open('file.txt') as f:\n",
    "    lines = [line.strip() for line in f.readlines()]\n",
    "lines = [line.split(\": \")[1] for line in lines]\n",
    "lines = [line.split(\"; \") for line in lines]\n",
    "lines = [[items.split(\", \") for items in line] for line in lines]\n",
    "lines = [[[item.split() for item in items] for items in line] for line in lines]\n",
    "lines[:5]"
   ]
  },
  {
   "cell_type": "code",
   "execution_count": 31,
   "metadata": {},
   "outputs": [
    {
     "data": {
      "text/plain": [
       "2101"
      ]
     },
     "execution_count": 31,
     "metadata": {},
     "output_type": "execute_result"
    }
   ],
   "source": [
    "sum_id = 0\n",
    "for i, game in enumerate(lines):\n",
    "    game_safe = True\n",
    "    for draw in game:\n",
    "        for item in draw:\n",
    "            if item[1] == \"red\":\n",
    "                if int(item[0]) > 12:\n",
    "                    game_safe = False\n",
    "            if item[1] == \"green\":\n",
    "                if int(item[0]) > 13:\n",
    "                    game_safe = False\n",
    "            if item[1] == \"blue\":\n",
    "                if int(item[0]) > 14:\n",
    "                    game_safe = False\n",
    "    if game_safe:\n",
    "        sum_id += i + 1\n",
    "sum_id"
   ]
  },
  {
   "cell_type": "code",
   "execution_count": null,
   "metadata": {},
   "outputs": [],
   "source": [
    "l"
   ]
  }
 ],
 "metadata": {
  "kernelspec": {
   "display_name": ".venv",
   "language": "python",
   "name": "python3"
  },
  "language_info": {
   "codemirror_mode": {
    "name": "ipython",
    "version": 3
   },
   "file_extension": ".py",
   "mimetype": "text/x-python",
   "name": "python",
   "nbconvert_exporter": "python",
   "pygments_lexer": "ipython3",
   "version": "3.11.3"
  }
 },
 "nbformat": 4,
 "nbformat_minor": 2
}
