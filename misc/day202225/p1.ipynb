{
 "cells": [
  {
   "cell_type": "code",
   "execution_count": 1,
   "metadata": {},
   "outputs": [
    {
     "data": {
      "text/plain": [
       "['1=-0-2', '12111', '2=0=', '21', '2=01']"
      ]
     },
     "execution_count": 1,
     "metadata": {},
     "output_type": "execute_result"
    }
   ],
   "source": [
    "with open('sample.txt') as f:\n",
    "    lines = [line.strip() for line in f.readlines()]\n",
    "lines[:5]"
   ]
  },
  {
   "cell_type": "code",
   "execution_count": 5,
   "metadata": {},
   "outputs": [],
   "source": [
    "snafu_map = {\n",
    "    '2': 2,\n",
    "    '1': 1,\n",
    "    '0': 0,\n",
    "    \"-\": -1,\n",
    "    \"=\": -2,\n",
    "}\n",
    "def SNAFUtobinary(SNAFU):\n",
    "    SNAFU = SNAFU[::-1]\n",
    "    multiplier = 1\n",
    "    binary = 0\n",
    "    for i in SNAFU:\n",
    "        binary += snafu_map[i] * multiplier\n",
    "        multiplier *= 5\n",
    "    return binary"
   ]
  },
  {
   "cell_type": "code",
   "execution_count": null,
   "metadata": {},
   "outputs": [],
   "source": [
    "def addSNAFU(SNAFU1, SNAFU2):\n",
    "    SNAFU1, SNAFU2 = SNAFU1[::-1], SNAFU2[::-1]\n",
    "    carry = 0\n",
    "    for i in range(max(len(SNAFU1), len(SNAFU2))):\n",
    "        val1 = snafu_map[SNAFU1[i]] if i < len(SNAFU1) else 0\n",
    "        val2 = snafu_map[SNAFU2[i]] if i < len(SNAFU2) else 0\n",
    "        val = val1 + val2 + carry\n",
    "        if val > 2:\n",
    "            val = -5\n",
    "            carry = 1\n",
    "        elif val < -2:\n",
    "            val = 5\n",
    "            carry = -1\n",
    "        else:\n",
    "            carry = 0\n",
    "        SNAFU1[i] = str(val)"
   ]
  },
  {
   "cell_type": "code",
   "execution_count": 6,
   "metadata": {},
   "outputs": [
    {
     "name": "stdout",
     "output_type": "stream",
     "text": [
      "1=-0-2 1747\n",
      "12111 906\n",
      "2=0= 198\n",
      "21 11\n",
      "2=01 201\n",
      "111 31\n",
      "20012 1257\n",
      "112 32\n",
      "1=-1= 353\n",
      "1-12 107\n",
      "12 7\n",
      "1= 3\n",
      "122 37\n"
     ]
    }
   ],
   "source": [
    "for line in lines:\n",
    "    print(line, SNAFUtobinary(line))"
   ]
  },
  {
   "cell_type": "code",
   "execution_count": null,
   "metadata": {},
   "outputs": [],
   "source": []
  }
 ],
 "metadata": {
  "kernelspec": {
   "display_name": ".venv",
   "language": "python",
   "name": "python3"
  },
  "language_info": {
   "codemirror_mode": {
    "name": "ipython",
    "version": 3
   },
   "file_extension": ".py",
   "mimetype": "text/x-python",
   "name": "python",
   "nbconvert_exporter": "python",
   "pygments_lexer": "ipython3",
   "version": "3.11.3"
  }
 },
 "nbformat": 4,
 "nbformat_minor": 2
}
